{
 "cells": [
  {
   "cell_type": "code",
   "execution_count": 1,
   "metadata": {},
   "outputs": [],
   "source": [
    "from reader.MedSegReader import MedSegSimpleReader\n",
    "from train_tools.EarlyStopper import EarlyStopper\n",
    "from train_tools.BestSaver import BestSaver\n",
    "from reader.ctimageio import *\n",
    "from metrics.multilabel import *\n",
    "from net.Unet2D import Unet2D\n",
    "\n",
    "from module.display import *\n",
    "import torch\n",
    "import cv2\n",
    "import pandas as pd\n",
    "import numpy as np\n",
    "from sklearn.model_selection import KFold\n",
    "import matplotlib.pyplot as plt"
   ]
  },
  {
   "cell_type": "code",
   "execution_count": 2,
   "metadata": {},
   "outputs": [],
   "source": [
    "path = \"MedSeg/Liver/\"\n",
    "ms_reader = MedSegSimpleReader(path, isFlip=True)"
   ]
  },
  {
   "cell_type": "code",
   "execution_count": 3,
   "metadata": {},
   "outputs": [],
   "source": [
    "def resizeCTMask(source_mask, resize_shape):\n",
    "    labels = [i+1 for i in range(9)]\n",
    "\n",
    "    segments = [np.array(np.where(source_mask==label, 1, 0), dtype=np.uint8) for label in labels] # 分別取得各segment的mask\n",
    "    segments = [cv2.resize(segment, resize_shape, interpolation=cv2.INTER_LINEAR) \n",
    "                        for segment in segments]\n",
    "    \n",
    "    check_mask = np.zeros(resize_shape) # 紀錄resize後，label的重疊情形\n",
    "    resized_mask = np.zeros(resize_shape)\n",
    "    for label, segment in zip(labels, segments):\n",
    "        check_mask += segment\n",
    "        resized_mask += segment*label\n",
    "\n",
    "    if len(np.unique(check_mask)) > 2: # label有重疊到 (以確認過只會重疊一次 overlap_mask==2的部分)\n",
    "        overlap_ys, overlap_xs = np.where(check_mask==2)\n",
    "        resized_mask[overlap_ys, overlap_xs] = 0 # 把重疊的部分改為0\n",
    "\n",
    "        # overlap_mask[overlap_ys, overlap_xs] = 0 # 檢查用\n",
    "        # print(np.unique(overlap_mask))\n",
    "    return resized_mask\n",
    "\n",
    "class MSDataset(torch.utils.data.Dataset):\n",
    "    def __init__(self, reader, pt_indices, resize_shape=(256, 256), targetonly=False):\n",
    "        self.imgs = []\n",
    "        self.masks = []\n",
    "\n",
    "        for index in pt_indices:\n",
    "            ct_slices, ct_masks = reader[index] # patient images\n",
    "            ct_slices, ct_masks = self.__resize(ct_slices, ct_masks, resize_shape)\n",
    "            for ct_slice, ct_mask in zip(ct_slices, ct_masks):                \n",
    "                if targetonly: # 只保留有Target Segments的部分\n",
    "                    if np.sum(ct_mask) == 0:\n",
    "                        continue\n",
    "\n",
    "                self.imgs.append(ct_slice)\n",
    "                self.masks.append(ct_mask)\n",
    "        self.imgs = np.array(self.imgs)\n",
    "        self.masks = np.array(self.masks)\n",
    "\n",
    "    def __resize(self, ct_slices, ct_masks, resize_shape):\n",
    "        resized_slices, resized_masks = [], []\n",
    "        for ct_slice, ct_mask in zip(ct_slices, ct_masks):                \n",
    "            ct_slice = cv2.resize(ct_slice, resize_shape, interpolation=cv2.INTER_LINEAR)\n",
    "            ct_mask = resizeCTMask(ct_mask, resize_shape)\n",
    "            ct_slice = np.clip(ct_slice, -160, 240)\n",
    "\n",
    "            resized_slices.append(ct_slice)\n",
    "            resized_masks.append(ct_mask)\n",
    "        return np.array(resized_slices), np.array(resized_masks)\n",
    "\n",
    "    def __getitem__(self, idx):\n",
    "        img = self.imgs[idx]\n",
    "        mask = self.masks[idx]\n",
    "\n",
    "        img = torch.from_numpy(img)\n",
    "        img = torch.unsqueeze(img, 0).type(torch.float32)\n",
    "        mask = torch.from_numpy(mask).type(torch.int64)\n",
    "        mask = torch.nn.functional.one_hot(mask, num_classes=10).permute(2, 0, 1).float()\n",
    "\n",
    "        return img, mask\n",
    "\n",
    "    def __len__(self):\n",
    "        return len(self.imgs)"
   ]
  },
  {
   "cell_type": "code",
   "execution_count": 4,
   "metadata": {},
   "outputs": [],
   "source": [
    "def show_train_history(train_losses):\n",
    "    plt.plot(train_losses)\n",
    "    plt.title('Train History')\n",
    "    plt.ylabel('loss')\n",
    "    plt.xlabel('Epoch')\n",
    "    plt.legend(['train'], loc='upper left')\n",
    "    plt.show()"
   ]
  },
  {
   "cell_type": "code",
   "execution_count": 5,
   "metadata": {},
   "outputs": [],
   "source": [
    "use_cuda = torch.cuda.is_available()\n",
    "if use_cuda:\n",
    "    device = torch.device(\"cuda\")\n",
    "else:\n",
    "    raise PermissionError(\"Not detect GPU devices\")"
   ]
  },
  {
   "cell_type": "code",
   "execution_count": 6,
   "metadata": {},
   "outputs": [],
   "source": [
    "learning_rate = 1e-4\n",
    "batch_size = 8\n",
    "epochs = 100\n",
    "criterion = multilabel_dice_loss\n",
    "\n",
    "def train_one_epoch(model, optimizer, data_loader, device):\n",
    "    model.train()\n",
    "    train_losses = []\n",
    "\n",
    "    for images, masks in data_loader:\n",
    "        X = images.to(device)\n",
    "        y = masks.to(device)\n",
    "\n",
    "        outputs = model(X)\n",
    "        loss = criterion(outputs, y)\n",
    "\n",
    "        optimizer.zero_grad()\n",
    "        loss.backward()\n",
    "        optimizer.step()\n",
    "        \n",
    "        train_losses.append(loss.item())\n",
    "\n",
    "    return sum(train_losses)/len(train_losses)\n",
    "\n",
    "def evaluate(model, data_loader, device):\n",
    "    model.eval()\n",
    "    targets = []\n",
    "    prediction = []\n",
    "    for images, masks in data_loader:\n",
    "        X = images.to(device)\n",
    "\n",
    "        with torch.no_grad():\n",
    "            outputs = model(X)\n",
    "\n",
    "        masks = masks.cpu()\n",
    "        outputs = outputs.cpu()\n",
    "        targets.append(masks)\n",
    "        prediction.append(outputs)\n",
    "\n",
    "    targets = torch.vstack(targets)\n",
    "    prediction = torch.vstack(prediction)\n",
    "\n",
    "    dice_global = multilabel_dice(prediction, targets) # Calculation of dice global\n",
    "\n",
    "    return dice_global"
   ]
  },
  {
   "cell_type": "code",
   "execution_count": 7,
   "metadata": {},
   "outputs": [
    {
     "name": "stdout",
     "output_type": "stream",
     "text": [
      "Fold 4\n",
      "Epoch [20] loss: 0.25079479108431507\n",
      "End in epoch 34\n"
     ]
    },
    {
     "data": {
      "image/png": "[encoded data removed]",
      "text/plain": [
       "<Figure size 432x288 with 1 Axes>"
      ]
     },
     "metadata": {
      "needs_background": "light"
     },
     "output_type": "display_data"
    },
    {
     "name": "stdout",
     "output_type": "stream",
     "text": [
      "Test dice global: 0.7176670432090759\n"
     ]
    }
   ],
   "source": [
    "sample_indices = [i for i in range(len(ms_reader))]\n",
    "kf = KFold(n_splits=5)\n",
    "for fold_num, (train_indices, test_indices) in enumerate(kf.split(sample_indices)):\n",
    "    print(f\"Fold {fold_num+1}\")\n",
    "    model_save_name = f\"save_model/Unet2D/Unet2D_fold{fold_num+1}.pth\"\n",
    "    #################\n",
    "    # Train Dataset #\n",
    "    #################\n",
    "    dataset_train = MSDataset(ms_reader, train_indices, targetonly=False)\n",
    "    data_loader = torch.utils.data.DataLoader(\n",
    "        dataset_train, batch_size=batch_size, shuffle=True)\n",
    "            \n",
    "    model = Unet2D(n_classes=10).to(device)\n",
    "    optimizer = torch.optim.Adam(model.parameters(), lr=learning_rate)\n",
    "    early_stopper = EarlyStopper(patience=10)\n",
    "    best_saver = BestSaver(model, model_save_name, best_criterion='min')\n",
    "    train_history = []\n",
    "    for epoch_num in range(epochs):    \n",
    "        train_loss = train_one_epoch(model, optimizer, data_loader, device)\n",
    "        if (epoch_num+1)%20 == 0:\n",
    "            print(f\"Epoch [{epoch_num+1}] loss: {train_loss}\")\n",
    "        # print(f\"Epoch [{epoch_num+1}] loss: {train_loss}\")\n",
    "        \n",
    "        if early_stopper.stopJudgment(train_loss):\n",
    "            print(f\"End in epoch {epoch_num+1}\")\n",
    "            break\n",
    "        best_saver.saveJudgment(train_loss)\n",
    "        train_history.append(train_loss)\n",
    "\n",
    "    show_train_history(train_history)\n",
    "\n",
    "    #################\n",
    "    #  Test Dataset #\n",
    "    #################\n",
    "    dataset_test = MSDataset(ms_reader, test_indices, targetonly=False)\n",
    "    data_loader_test = torch.utils.data.DataLoader(\n",
    "        dataset_test, batch_size=batch_size, shuffle=False)\n",
    "\n",
    "    model.load_state_dict(torch.load(model_save_name))\n",
    "    dice_global = evaluate(model, data_loader_test, device)\n",
    "    print(f\"Test dice global: {dice_global}\")"
   ]
  }
 ],
 "metadata": {
  "kernelspec": {
   "display_name": "Python 3",
   "language": "python",
   "name": "python3"
  },
  "language_info": {
   "codemirror_mode": {
    "name": "ipython",
    "version": 3
   },
   "file_extension": ".py",
   "mimetype": "text/x-python",
   "name": "python",
   "nbconvert_exporter": "python",
   "pygments_lexer": "ipython3",
   "version": "3.9.6"
  },
  "orig_nbformat": 4
 },
 "nbformat": 4,
 "nbformat_minor": 2
}
